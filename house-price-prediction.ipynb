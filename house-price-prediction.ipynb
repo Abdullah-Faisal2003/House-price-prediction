{
 "cells": [
  {
   "cell_type": "code",
   "execution_count": 1,
   "id": "470d600e",
   "metadata": {
    "_cell_guid": "b1076dfc-b9ad-4769-8c92-a6c4dae69d19",
    "_uuid": "8f2839f25d086af736a60e9eeb907d3b93b6e0e5",
    "execution": {
     "iopub.execute_input": "2024-07-15T18:23:35.730047Z",
     "iopub.status.busy": "2024-07-15T18:23:35.728740Z",
     "iopub.status.idle": "2024-07-15T18:23:38.487981Z",
     "shell.execute_reply": "2024-07-15T18:23:38.486677Z"
    },
    "papermill": {
     "duration": 2.774167,
     "end_time": "2024-07-15T18:23:38.490959",
     "exception": false,
     "start_time": "2024-07-15T18:23:35.716792",
     "status": "completed"
    },
    "tags": []
   },
   "outputs": [],
   "source": [
    "import numpy as np\n",
    "import pandas as pd\n",
    "import seaborn as sns\n",
    "import matplotlib.pyplot as plt"
   ]
  },
  {
   "cell_type": "code",
   "execution_count": 2,
   "id": "4e3ddf40",
   "metadata": {
    "execution": {
     "iopub.execute_input": "2024-07-15T18:23:38.513343Z",
     "iopub.status.busy": "2024-07-15T18:23:38.512554Z",
     "iopub.status.idle": "2024-07-15T18:23:38.613141Z",
     "shell.execute_reply": "2024-07-15T18:23:38.611641Z"
    },
    "papermill": {
     "duration": 0.115288,
     "end_time": "2024-07-15T18:23:38.616293",
     "exception": false,
     "start_time": "2024-07-15T18:23:38.501005",
     "status": "completed"
    },
    "tags": []
   },
   "outputs": [],
   "source": [
    "df = pd.read_csv(\"/kaggle/input/housing-price-prediction-data/housing_price_dataset.csv\")"
   ]
  },
  {
   "cell_type": "code",
   "execution_count": 3,
   "id": "a358dd81",
   "metadata": {
    "execution": {
     "iopub.execute_input": "2024-07-15T18:23:38.636815Z",
     "iopub.status.busy": "2024-07-15T18:23:38.636234Z",
     "iopub.status.idle": "2024-07-15T18:23:38.667012Z",
     "shell.execute_reply": "2024-07-15T18:23:38.665454Z"
    },
    "papermill": {
     "duration": 0.044646,
     "end_time": "2024-07-15T18:23:38.670333",
     "exception": false,
     "start_time": "2024-07-15T18:23:38.625687",
     "status": "completed"
    },
    "tags": []
   },
   "outputs": [
    {
     "data": {
      "text/html": [
       "<div>\n",
       "<style scoped>\n",
       "    .dataframe tbody tr th:only-of-type {\n",
       "        vertical-align: middle;\n",
       "    }\n",
       "\n",
       "    .dataframe tbody tr th {\n",
       "        vertical-align: top;\n",
       "    }\n",
       "\n",
       "    .dataframe thead th {\n",
       "        text-align: right;\n",
       "    }\n",
       "</style>\n",
       "<table border=\"1\" class=\"dataframe\">\n",
       "  <thead>\n",
       "    <tr style=\"text-align: right;\">\n",
       "      <th></th>\n",
       "      <th>SquareFeet</th>\n",
       "      <th>Bedrooms</th>\n",
       "      <th>Bathrooms</th>\n",
       "      <th>Neighborhood</th>\n",
       "      <th>YearBuilt</th>\n",
       "      <th>Price</th>\n",
       "    </tr>\n",
       "  </thead>\n",
       "  <tbody>\n",
       "    <tr>\n",
       "      <th>0</th>\n",
       "      <td>2126</td>\n",
       "      <td>4</td>\n",
       "      <td>1</td>\n",
       "      <td>Rural</td>\n",
       "      <td>1969</td>\n",
       "      <td>215355.283618</td>\n",
       "    </tr>\n",
       "    <tr>\n",
       "      <th>1</th>\n",
       "      <td>2459</td>\n",
       "      <td>3</td>\n",
       "      <td>2</td>\n",
       "      <td>Rural</td>\n",
       "      <td>1980</td>\n",
       "      <td>195014.221626</td>\n",
       "    </tr>\n",
       "    <tr>\n",
       "      <th>2</th>\n",
       "      <td>1860</td>\n",
       "      <td>2</td>\n",
       "      <td>1</td>\n",
       "      <td>Suburb</td>\n",
       "      <td>1970</td>\n",
       "      <td>306891.012076</td>\n",
       "    </tr>\n",
       "    <tr>\n",
       "      <th>3</th>\n",
       "      <td>2294</td>\n",
       "      <td>2</td>\n",
       "      <td>1</td>\n",
       "      <td>Urban</td>\n",
       "      <td>1996</td>\n",
       "      <td>206786.787153</td>\n",
       "    </tr>\n",
       "    <tr>\n",
       "      <th>4</th>\n",
       "      <td>2130</td>\n",
       "      <td>5</td>\n",
       "      <td>2</td>\n",
       "      <td>Suburb</td>\n",
       "      <td>2001</td>\n",
       "      <td>272436.239065</td>\n",
       "    </tr>\n",
       "  </tbody>\n",
       "</table>\n",
       "</div>"
      ],
      "text/plain": [
       "   SquareFeet  Bedrooms  Bathrooms Neighborhood  YearBuilt          Price\n",
       "0        2126         4          1        Rural       1969  215355.283618\n",
       "1        2459         3          2        Rural       1980  195014.221626\n",
       "2        1860         2          1       Suburb       1970  306891.012076\n",
       "3        2294         2          1        Urban       1996  206786.787153\n",
       "4        2130         5          2       Suburb       2001  272436.239065"
      ]
     },
     "execution_count": 3,
     "metadata": {},
     "output_type": "execute_result"
    }
   ],
   "source": [
    "df.head()"
   ]
  },
  {
   "cell_type": "code",
   "execution_count": 4,
   "id": "bbf125e1",
   "metadata": {
    "execution": {
     "iopub.execute_input": "2024-07-15T18:23:38.691126Z",
     "iopub.status.busy": "2024-07-15T18:23:38.690663Z",
     "iopub.status.idle": "2024-07-15T18:23:38.724561Z",
     "shell.execute_reply": "2024-07-15T18:23:38.723087Z"
    },
    "papermill": {
     "duration": 0.047571,
     "end_time": "2024-07-15T18:23:38.727475",
     "exception": false,
     "start_time": "2024-07-15T18:23:38.679904",
     "status": "completed"
    },
    "tags": []
   },
   "outputs": [
    {
     "name": "stdout",
     "output_type": "stream",
     "text": [
      "<class 'pandas.core.frame.DataFrame'>\n",
      "RangeIndex: 50000 entries, 0 to 49999\n",
      "Data columns (total 6 columns):\n",
      " #   Column        Non-Null Count  Dtype  \n",
      "---  ------        --------------  -----  \n",
      " 0   SquareFeet    50000 non-null  int64  \n",
      " 1   Bedrooms      50000 non-null  int64  \n",
      " 2   Bathrooms     50000 non-null  int64  \n",
      " 3   Neighborhood  50000 non-null  object \n",
      " 4   YearBuilt     50000 non-null  int64  \n",
      " 5   Price         50000 non-null  float64\n",
      "dtypes: float64(1), int64(4), object(1)\n",
      "memory usage: 2.3+ MB\n"
     ]
    }
   ],
   "source": [
    "df.info()"
   ]
  },
  {
   "cell_type": "code",
   "execution_count": 5,
   "id": "89466cc4",
   "metadata": {
    "execution": {
     "iopub.execute_input": "2024-07-15T18:23:38.748743Z",
     "iopub.status.busy": "2024-07-15T18:23:38.748282Z",
     "iopub.status.idle": "2024-07-15T18:23:38.792216Z",
     "shell.execute_reply": "2024-07-15T18:23:38.790938Z"
    },
    "papermill": {
     "duration": 0.057835,
     "end_time": "2024-07-15T18:23:38.794953",
     "exception": false,
     "start_time": "2024-07-15T18:23:38.737118",
     "status": "completed"
    },
    "tags": []
   },
   "outputs": [
    {
     "data": {
      "text/html": [
       "<div>\n",
       "<style scoped>\n",
       "    .dataframe tbody tr th:only-of-type {\n",
       "        vertical-align: middle;\n",
       "    }\n",
       "\n",
       "    .dataframe tbody tr th {\n",
       "        vertical-align: top;\n",
       "    }\n",
       "\n",
       "    .dataframe thead th {\n",
       "        text-align: right;\n",
       "    }\n",
       "</style>\n",
       "<table border=\"1\" class=\"dataframe\">\n",
       "  <thead>\n",
       "    <tr style=\"text-align: right;\">\n",
       "      <th></th>\n",
       "      <th>SquareFeet</th>\n",
       "      <th>Bedrooms</th>\n",
       "      <th>Bathrooms</th>\n",
       "      <th>YearBuilt</th>\n",
       "      <th>Price</th>\n",
       "    </tr>\n",
       "  </thead>\n",
       "  <tbody>\n",
       "    <tr>\n",
       "      <th>count</th>\n",
       "      <td>50000.000000</td>\n",
       "      <td>50000.000000</td>\n",
       "      <td>50000.000000</td>\n",
       "      <td>50000.000000</td>\n",
       "      <td>50000.000000</td>\n",
       "    </tr>\n",
       "    <tr>\n",
       "      <th>mean</th>\n",
       "      <td>2006.374680</td>\n",
       "      <td>3.498700</td>\n",
       "      <td>1.995420</td>\n",
       "      <td>1985.404420</td>\n",
       "      <td>224827.325151</td>\n",
       "    </tr>\n",
       "    <tr>\n",
       "      <th>std</th>\n",
       "      <td>575.513241</td>\n",
       "      <td>1.116326</td>\n",
       "      <td>0.815851</td>\n",
       "      <td>20.719377</td>\n",
       "      <td>76141.842966</td>\n",
       "    </tr>\n",
       "    <tr>\n",
       "      <th>min</th>\n",
       "      <td>1000.000000</td>\n",
       "      <td>2.000000</td>\n",
       "      <td>1.000000</td>\n",
       "      <td>1950.000000</td>\n",
       "      <td>-36588.165397</td>\n",
       "    </tr>\n",
       "    <tr>\n",
       "      <th>25%</th>\n",
       "      <td>1513.000000</td>\n",
       "      <td>3.000000</td>\n",
       "      <td>1.000000</td>\n",
       "      <td>1967.000000</td>\n",
       "      <td>169955.860225</td>\n",
       "    </tr>\n",
       "    <tr>\n",
       "      <th>50%</th>\n",
       "      <td>2007.000000</td>\n",
       "      <td>3.000000</td>\n",
       "      <td>2.000000</td>\n",
       "      <td>1985.000000</td>\n",
       "      <td>225052.141166</td>\n",
       "    </tr>\n",
       "    <tr>\n",
       "      <th>75%</th>\n",
       "      <td>2506.000000</td>\n",
       "      <td>4.000000</td>\n",
       "      <td>3.000000</td>\n",
       "      <td>2003.000000</td>\n",
       "      <td>279373.630052</td>\n",
       "    </tr>\n",
       "    <tr>\n",
       "      <th>max</th>\n",
       "      <td>2999.000000</td>\n",
       "      <td>5.000000</td>\n",
       "      <td>3.000000</td>\n",
       "      <td>2021.000000</td>\n",
       "      <td>492195.259972</td>\n",
       "    </tr>\n",
       "  </tbody>\n",
       "</table>\n",
       "</div>"
      ],
      "text/plain": [
       "         SquareFeet      Bedrooms     Bathrooms     YearBuilt          Price\n",
       "count  50000.000000  50000.000000  50000.000000  50000.000000   50000.000000\n",
       "mean    2006.374680      3.498700      1.995420   1985.404420  224827.325151\n",
       "std      575.513241      1.116326      0.815851     20.719377   76141.842966\n",
       "min     1000.000000      2.000000      1.000000   1950.000000  -36588.165397\n",
       "25%     1513.000000      3.000000      1.000000   1967.000000  169955.860225\n",
       "50%     2007.000000      3.000000      2.000000   1985.000000  225052.141166\n",
       "75%     2506.000000      4.000000      3.000000   2003.000000  279373.630052\n",
       "max     2999.000000      5.000000      3.000000   2021.000000  492195.259972"
      ]
     },
     "execution_count": 5,
     "metadata": {},
     "output_type": "execute_result"
    }
   ],
   "source": [
    "df.describe()"
   ]
  },
  {
   "cell_type": "code",
   "execution_count": 6,
   "id": "aa6c1608",
   "metadata": {
    "execution": {
     "iopub.execute_input": "2024-07-15T18:23:38.816990Z",
     "iopub.status.busy": "2024-07-15T18:23:38.816519Z",
     "iopub.status.idle": "2024-07-15T18:23:40.079988Z",
     "shell.execute_reply": "2024-07-15T18:23:40.078421Z"
    },
    "papermill": {
     "duration": 1.278385,
     "end_time": "2024-07-15T18:23:40.083800",
     "exception": false,
     "start_time": "2024-07-15T18:23:38.805415",
     "status": "completed"
    },
    "tags": []
   },
   "outputs": [
    {
     "data": {
      "text/plain": [
       "array([[<Axes: title={'center': 'SquareFeet'}>,\n",
       "        <Axes: title={'center': 'Bedrooms'}>],\n",
       "       [<Axes: title={'center': 'Bathrooms'}>,\n",
       "        <Axes: title={'center': 'YearBuilt'}>],\n",
       "       [<Axes: title={'center': 'Price'}>, <Axes: >]], dtype=object)"
      ]
     },
     "execution_count": 6,
     "metadata": {},
     "output_type": "execute_result"
    },
    {
     "data": {
      "image/png": "[encoded data removed]",
      "text/plain": [
       "<Figure size 640x480 with 6 Axes>"
      ]
     },
     "metadata": {},
     "output_type": "display_data"
    }
   ],
   "source": [
    "df.hist()"
   ]
  },
  {
   "cell_type": "code",
   "execution_count": 7,
   "id": "f6bfbdec",
   "metadata": {
    "execution": {
     "iopub.execute_input": "2024-07-15T18:23:40.107875Z",
     "iopub.status.busy": "2024-07-15T18:23:40.107430Z",
     "iopub.status.idle": "2024-07-15T18:23:40.129863Z",
     "shell.execute_reply": "2024-07-15T18:23:40.128551Z"
    },
    "papermill": {
     "duration": 0.037162,
     "end_time": "2024-07-15T18:23:40.132479",
     "exception": false,
     "start_time": "2024-07-15T18:23:40.095317",
     "status": "completed"
    },
    "tags": []
   },
   "outputs": [
    {
     "data": {
      "text/html": [
       "<div>\n",
       "<style scoped>\n",
       "    .dataframe tbody tr th:only-of-type {\n",
       "        vertical-align: middle;\n",
       "    }\n",
       "\n",
       "    .dataframe tbody tr th {\n",
       "        vertical-align: top;\n",
       "    }\n",
       "\n",
       "    .dataframe thead th {\n",
       "        text-align: right;\n",
       "    }\n",
       "</style>\n",
       "<table border=\"1\" class=\"dataframe\">\n",
       "  <thead>\n",
       "    <tr style=\"text-align: right;\">\n",
       "      <th></th>\n",
       "      <th>SquareFeet</th>\n",
       "      <th>Bedrooms</th>\n",
       "      <th>Bathrooms</th>\n",
       "      <th>Neighborhood</th>\n",
       "      <th>YearBuilt</th>\n",
       "      <th>Price</th>\n",
       "    </tr>\n",
       "  </thead>\n",
       "  <tbody>\n",
       "    <tr>\n",
       "      <th>1266</th>\n",
       "      <td>1024</td>\n",
       "      <td>2</td>\n",
       "      <td>2</td>\n",
       "      <td>Urban</td>\n",
       "      <td>2006</td>\n",
       "      <td>-24715.242482</td>\n",
       "    </tr>\n",
       "    <tr>\n",
       "      <th>2310</th>\n",
       "      <td>1036</td>\n",
       "      <td>4</td>\n",
       "      <td>1</td>\n",
       "      <td>Suburb</td>\n",
       "      <td>1983</td>\n",
       "      <td>-7550.504574</td>\n",
       "    </tr>\n",
       "    <tr>\n",
       "      <th>3630</th>\n",
       "      <td>1235</td>\n",
       "      <td>3</td>\n",
       "      <td>2</td>\n",
       "      <td>Rural</td>\n",
       "      <td>2012</td>\n",
       "      <td>-19871.251146</td>\n",
       "    </tr>\n",
       "    <tr>\n",
       "      <th>4162</th>\n",
       "      <td>1352</td>\n",
       "      <td>5</td>\n",
       "      <td>2</td>\n",
       "      <td>Suburb</td>\n",
       "      <td>1977</td>\n",
       "      <td>-10608.359522</td>\n",
       "    </tr>\n",
       "    <tr>\n",
       "      <th>5118</th>\n",
       "      <td>1140</td>\n",
       "      <td>4</td>\n",
       "      <td>1</td>\n",
       "      <td>Urban</td>\n",
       "      <td>2020</td>\n",
       "      <td>-23911.003119</td>\n",
       "    </tr>\n",
       "    <tr>\n",
       "      <th>5951</th>\n",
       "      <td>1097</td>\n",
       "      <td>4</td>\n",
       "      <td>3</td>\n",
       "      <td>Rural</td>\n",
       "      <td>1981</td>\n",
       "      <td>-4537.418615</td>\n",
       "    </tr>\n",
       "    <tr>\n",
       "      <th>6355</th>\n",
       "      <td>1016</td>\n",
       "      <td>5</td>\n",
       "      <td>2</td>\n",
       "      <td>Rural</td>\n",
       "      <td>1997</td>\n",
       "      <td>-13803.684059</td>\n",
       "    </tr>\n",
       "    <tr>\n",
       "      <th>8720</th>\n",
       "      <td>1235</td>\n",
       "      <td>3</td>\n",
       "      <td>1</td>\n",
       "      <td>Urban</td>\n",
       "      <td>1952</td>\n",
       "      <td>-24183.000515</td>\n",
       "    </tr>\n",
       "    <tr>\n",
       "      <th>9611</th>\n",
       "      <td>1131</td>\n",
       "      <td>3</td>\n",
       "      <td>3</td>\n",
       "      <td>Urban</td>\n",
       "      <td>1959</td>\n",
       "      <td>-13692.026068</td>\n",
       "    </tr>\n",
       "    <tr>\n",
       "      <th>10597</th>\n",
       "      <td>1177</td>\n",
       "      <td>2</td>\n",
       "      <td>3</td>\n",
       "      <td>Urban</td>\n",
       "      <td>2010</td>\n",
       "      <td>-434.097124</td>\n",
       "    </tr>\n",
       "    <tr>\n",
       "      <th>11991</th>\n",
       "      <td>1213</td>\n",
       "      <td>4</td>\n",
       "      <td>1</td>\n",
       "      <td>Suburb</td>\n",
       "      <td>2020</td>\n",
       "      <td>-4910.415323</td>\n",
       "    </tr>\n",
       "    <tr>\n",
       "      <th>17442</th>\n",
       "      <td>1600</td>\n",
       "      <td>2</td>\n",
       "      <td>3</td>\n",
       "      <td>Rural</td>\n",
       "      <td>1989</td>\n",
       "      <td>-8238.884499</td>\n",
       "    </tr>\n",
       "    <tr>\n",
       "      <th>17706</th>\n",
       "      <td>1080</td>\n",
       "      <td>5</td>\n",
       "      <td>1</td>\n",
       "      <td>Rural</td>\n",
       "      <td>1955</td>\n",
       "      <td>-28774.998022</td>\n",
       "    </tr>\n",
       "    <tr>\n",
       "      <th>20211</th>\n",
       "      <td>1049</td>\n",
       "      <td>3</td>\n",
       "      <td>1</td>\n",
       "      <td>Rural</td>\n",
       "      <td>2005</td>\n",
       "      <td>-18159.685676</td>\n",
       "    </tr>\n",
       "    <tr>\n",
       "      <th>20759</th>\n",
       "      <td>1036</td>\n",
       "      <td>2</td>\n",
       "      <td>2</td>\n",
       "      <td>Urban</td>\n",
       "      <td>1957</td>\n",
       "      <td>-4810.724320</td>\n",
       "    </tr>\n",
       "    <tr>\n",
       "      <th>23650</th>\n",
       "      <td>1024</td>\n",
       "      <td>4</td>\n",
       "      <td>3</td>\n",
       "      <td>Suburb</td>\n",
       "      <td>1953</td>\n",
       "      <td>-4295.932176</td>\n",
       "    </tr>\n",
       "    <tr>\n",
       "      <th>25459</th>\n",
       "      <td>1106</td>\n",
       "      <td>2</td>\n",
       "      <td>2</td>\n",
       "      <td>Urban</td>\n",
       "      <td>1984</td>\n",
       "      <td>-7177.628532</td>\n",
       "    </tr>\n",
       "    <tr>\n",
       "      <th>29827</th>\n",
       "      <td>1173</td>\n",
       "      <td>5</td>\n",
       "      <td>2</td>\n",
       "      <td>Rural</td>\n",
       "      <td>1988</td>\n",
       "      <td>-847.895073</td>\n",
       "    </tr>\n",
       "    <tr>\n",
       "      <th>30171</th>\n",
       "      <td>1066</td>\n",
       "      <td>3</td>\n",
       "      <td>1</td>\n",
       "      <td>Rural</td>\n",
       "      <td>1964</td>\n",
       "      <td>-602.209099</td>\n",
       "    </tr>\n",
       "    <tr>\n",
       "      <th>33666</th>\n",
       "      <td>1013</td>\n",
       "      <td>5</td>\n",
       "      <td>2</td>\n",
       "      <td>Urban</td>\n",
       "      <td>1960</td>\n",
       "      <td>-36588.165397</td>\n",
       "    </tr>\n",
       "    <tr>\n",
       "      <th>35553</th>\n",
       "      <td>1374</td>\n",
       "      <td>4</td>\n",
       "      <td>3</td>\n",
       "      <td>Urban</td>\n",
       "      <td>1996</td>\n",
       "      <td>-4771.570194</td>\n",
       "    </tr>\n",
       "    <tr>\n",
       "      <th>36929</th>\n",
       "      <td>1078</td>\n",
       "      <td>5</td>\n",
       "      <td>1</td>\n",
       "      <td>Suburb</td>\n",
       "      <td>2015</td>\n",
       "      <td>-6159.039213</td>\n",
       "    </tr>\n",
       "  </tbody>\n",
       "</table>\n",
       "</div>"
      ],
      "text/plain": [
       "       SquareFeet  Bedrooms  Bathrooms Neighborhood  YearBuilt         Price\n",
       "1266         1024         2          2        Urban       2006 -24715.242482\n",
       "2310         1036         4          1       Suburb       1983  -7550.504574\n",
       "3630         1235         3          2        Rural       2012 -19871.251146\n",
       "4162         1352         5          2       Suburb       1977 -10608.359522\n",
       "5118         1140         4          1        Urban       2020 -23911.003119\n",
       "5951         1097         4          3        Rural       1981  -4537.418615\n",
       "6355         1016         5          2        Rural       1997 -13803.684059\n",
       "8720         1235         3          1        Urban       1952 -24183.000515\n",
       "9611         1131         3          3        Urban       1959 -13692.026068\n",
       "10597        1177         2          3        Urban       2010   -434.097124\n",
       "11991        1213         4          1       Suburb       2020  -4910.415323\n",
       "17442        1600         2          3        Rural       1989  -8238.884499\n",
       "17706        1080         5          1        Rural       1955 -28774.998022\n",
       "20211        1049         3          1        Rural       2005 -18159.685676\n",
       "20759        1036         2          2        Urban       1957  -4810.724320\n",
       "23650        1024         4          3       Suburb       1953  -4295.932176\n",
       "25459        1106         2          2        Urban       1984  -7177.628532\n",
       "29827        1173         5          2        Rural       1988   -847.895073\n",
       "30171        1066         3          1        Rural       1964   -602.209099\n",
       "33666        1013         5          2        Urban       1960 -36588.165397\n",
       "35553        1374         4          3        Urban       1996  -4771.570194\n",
       "36929        1078         5          1       Suburb       2015  -6159.039213"
      ]
     },
     "execution_count": 7,
     "metadata": {},
     "output_type": "execute_result"
    }
   ],
   "source": [
    "df[df.Price < 0]"
   ]
  },
  {
   "cell_type": "code",
   "execution_count": 8,
   "id": "3fe6bd3b",
   "metadata": {
    "execution": {
     "iopub.execute_input": "2024-07-15T18:23:40.156758Z",
     "iopub.status.busy": "2024-07-15T18:23:40.156208Z",
     "iopub.status.idle": "2024-07-15T18:23:40.166111Z",
     "shell.execute_reply": "2024-07-15T18:23:40.164922Z"
    },
    "papermill": {
     "duration": 0.025267,
     "end_time": "2024-07-15T18:23:40.169033",
     "exception": false,
     "start_time": "2024-07-15T18:23:40.143766",
     "status": "completed"
    },
    "tags": []
   },
   "outputs": [],
   "source": [
    "df = df[~(df.Price < 0)]"
   ]
  },
  {
   "cell_type": "code",
   "execution_count": 9,
   "id": "13be274c",
   "metadata": {
    "execution": {
     "iopub.execute_input": "2024-07-15T18:23:40.193762Z",
     "iopub.status.busy": "2024-07-15T18:23:40.193291Z",
     "iopub.status.idle": "2024-07-15T18:23:40.205830Z",
     "shell.execute_reply": "2024-07-15T18:23:40.204522Z"
    },
    "papermill": {
     "duration": 0.028418,
     "end_time": "2024-07-15T18:23:40.208544",
     "exception": false,
     "start_time": "2024-07-15T18:23:40.180126",
     "status": "completed"
    },
    "tags": []
   },
   "outputs": [
    {
     "data": {
      "text/html": [
       "<div>\n",
       "<style scoped>\n",
       "    .dataframe tbody tr th:only-of-type {\n",
       "        vertical-align: middle;\n",
       "    }\n",
       "\n",
       "    .dataframe tbody tr th {\n",
       "        vertical-align: top;\n",
       "    }\n",
       "\n",
       "    .dataframe thead th {\n",
       "        text-align: right;\n",
       "    }\n",
       "</style>\n",
       "<table border=\"1\" class=\"dataframe\">\n",
       "  <thead>\n",
       "    <tr style=\"text-align: right;\">\n",
       "      <th></th>\n",
       "      <th>SquareFeet</th>\n",
       "      <th>Bedrooms</th>\n",
       "      <th>Bathrooms</th>\n",
       "      <th>Neighborhood</th>\n",
       "      <th>YearBuilt</th>\n",
       "      <th>Price</th>\n",
       "    </tr>\n",
       "  </thead>\n",
       "  <tbody>\n",
       "  </tbody>\n",
       "</table>\n",
       "</div>"
      ],
      "text/plain": [
       "Empty DataFrame\n",
       "Columns: [SquareFeet, Bedrooms, Bathrooms, Neighborhood, YearBuilt, Price]\n",
       "Index: []"
      ]
     },
     "execution_count": 9,
     "metadata": {},
     "output_type": "execute_result"
    }
   ],
   "source": [
    "df[(df.Price < 0)]"
   ]
  },
  {
   "cell_type": "code",
   "execution_count": 10,
   "id": "268c6b56",
   "metadata": {
    "execution": {
     "iopub.execute_input": "2024-07-15T18:23:40.232570Z",
     "iopub.status.busy": "2024-07-15T18:23:40.232173Z",
     "iopub.status.idle": "2024-07-15T18:23:40.256991Z",
     "shell.execute_reply": "2024-07-15T18:23:40.255812Z"
    },
    "papermill": {
     "duration": 0.04011,
     "end_time": "2024-07-15T18:23:40.259872",
     "exception": false,
     "start_time": "2024-07-15T18:23:40.219762",
     "status": "completed"
    },
    "tags": []
   },
   "outputs": [
    {
     "data": {
      "text/plain": [
       "0"
      ]
     },
     "execution_count": 10,
     "metadata": {},
     "output_type": "execute_result"
    }
   ],
   "source": [
    "df.duplicated().sum()"
   ]
  },
  {
   "cell_type": "code",
   "execution_count": 11,
   "id": "3808c008",
   "metadata": {
    "execution": {
     "iopub.execute_input": "2024-07-15T18:23:40.286292Z",
     "iopub.status.busy": "2024-07-15T18:23:40.285877Z",
     "iopub.status.idle": "2024-07-15T18:23:40.302619Z",
     "shell.execute_reply": "2024-07-15T18:23:40.301198Z"
    },
    "papermill": {
     "duration": 0.033259,
     "end_time": "2024-07-15T18:23:40.305388",
     "exception": false,
     "start_time": "2024-07-15T18:23:40.272129",
     "status": "completed"
    },
    "tags": []
   },
   "outputs": [
    {
     "data": {
      "text/plain": [
       "SquareFeet      0\n",
       "Bedrooms        0\n",
       "Bathrooms       0\n",
       "Neighborhood    0\n",
       "YearBuilt       0\n",
       "Price           0\n",
       "dtype: int64"
      ]
     },
     "execution_count": 11,
     "metadata": {},
     "output_type": "execute_result"
    }
   ],
   "source": [
    "df.isnull().sum()"
   ]
  },
  {
   "cell_type": "code",
   "execution_count": 12,
   "id": "3e57f8d0",
   "metadata": {
    "execution": {
     "iopub.execute_input": "2024-07-15T18:23:40.330412Z",
     "iopub.status.busy": "2024-07-15T18:23:40.330028Z",
     "iopub.status.idle": "2024-07-15T18:23:40.349687Z",
     "shell.execute_reply": "2024-07-15T18:23:40.348157Z"
    },
    "papermill": {
     "duration": 0.03568,
     "end_time": "2024-07-15T18:23:40.352652",
     "exception": false,
     "start_time": "2024-07-15T18:23:40.316972",
     "status": "completed"
    },
    "tags": []
   },
   "outputs": [
    {
     "name": "stdout",
     "output_type": "stream",
     "text": [
      "<class 'pandas.core.frame.DataFrame'>\n",
      "Index: 49978 entries, 0 to 49999\n",
      "Data columns (total 6 columns):\n",
      " #   Column        Non-Null Count  Dtype  \n",
      "---  ------        --------------  -----  \n",
      " 0   SquareFeet    49978 non-null  int64  \n",
      " 1   Bedrooms      49978 non-null  int64  \n",
      " 2   Bathrooms     49978 non-null  int64  \n",
      " 3   Neighborhood  49978 non-null  object \n",
      " 4   YearBuilt     49978 non-null  int64  \n",
      " 5   Price         49978 non-null  float64\n",
      "dtypes: float64(1), int64(4), object(1)\n",
      "memory usage: 2.7+ MB\n"
     ]
    }
   ],
   "source": [
    "df.info()"
   ]
  },
  {
   "cell_type": "code",
   "execution_count": 13,
   "id": "0dc606ce",
   "metadata": {
    "execution": {
     "iopub.execute_input": "2024-07-15T18:23:40.378178Z",
     "iopub.status.busy": "2024-07-15T18:23:40.377370Z",
     "iopub.status.idle": "2024-07-15T18:23:40.622761Z",
     "shell.execute_reply": "2024-07-15T18:23:40.621170Z"
    },
    "papermill": {
     "duration": 0.261638,
     "end_time": "2024-07-15T18:23:40.626009",
     "exception": false,
     "start_time": "2024-07-15T18:23:40.364371",
     "status": "completed"
    },
    "tags": []
   },
   "outputs": [],
   "source": [
    "from sklearn.preprocessing import LabelEncoder\n",
    "\n",
    "encoder = LabelEncoder()\n",
    "\n",
    "df[\"Neighborhood\"] = encoder.fit_transform(df[\"Neighborhood\"])"
   ]
  },
  {
   "cell_type": "code",
   "execution_count": 14,
   "id": "1ba4e188",
   "metadata": {
    "execution": {
     "iopub.execute_input": "2024-07-15T18:23:40.651861Z",
     "iopub.status.busy": "2024-07-15T18:23:40.651350Z",
     "iopub.status.idle": "2024-07-15T18:23:40.665168Z",
     "shell.execute_reply": "2024-07-15T18:23:40.663558Z"
    },
    "papermill": {
     "duration": 0.030152,
     "end_time": "2024-07-15T18:23:40.668071",
     "exception": false,
     "start_time": "2024-07-15T18:23:40.637919",
     "status": "completed"
    },
    "tags": []
   },
   "outputs": [
    {
     "name": "stdout",
     "output_type": "stream",
     "text": [
      "<class 'pandas.core.frame.DataFrame'>\n",
      "Index: 49978 entries, 0 to 49999\n",
      "Data columns (total 6 columns):\n",
      " #   Column        Non-Null Count  Dtype  \n",
      "---  ------        --------------  -----  \n",
      " 0   SquareFeet    49978 non-null  int64  \n",
      " 1   Bedrooms      49978 non-null  int64  \n",
      " 2   Bathrooms     49978 non-null  int64  \n",
      " 3   Neighborhood  49978 non-null  int64  \n",
      " 4   YearBuilt     49978 non-null  int64  \n",
      " 5   Price         49978 non-null  float64\n",
      "dtypes: float64(1), int64(5)\n",
      "memory usage: 2.7 MB\n"
     ]
    }
   ],
   "source": [
    "df.info()"
   ]
  },
  {
   "cell_type": "code",
   "execution_count": 15,
   "id": "979a6c6b",
   "metadata": {
    "execution": {
     "iopub.execute_input": "2024-07-15T18:23:40.693805Z",
     "iopub.status.busy": "2024-07-15T18:23:40.693357Z",
     "iopub.status.idle": "2024-07-15T18:23:40.707741Z",
     "shell.execute_reply": "2024-07-15T18:23:40.706451Z"
    },
    "papermill": {
     "duration": 0.030481,
     "end_time": "2024-07-15T18:23:40.710403",
     "exception": false,
     "start_time": "2024-07-15T18:23:40.679922",
     "status": "completed"
    },
    "tags": []
   },
   "outputs": [
    {
     "data": {
      "text/html": [
       "<div>\n",
       "<style scoped>\n",
       "    .dataframe tbody tr th:only-of-type {\n",
       "        vertical-align: middle;\n",
       "    }\n",
       "\n",
       "    .dataframe tbody tr th {\n",
       "        vertical-align: top;\n",
       "    }\n",
       "\n",
       "    .dataframe thead th {\n",
       "        text-align: right;\n",
       "    }\n",
       "</style>\n",
       "<table border=\"1\" class=\"dataframe\">\n",
       "  <thead>\n",
       "    <tr style=\"text-align: right;\">\n",
       "      <th></th>\n",
       "      <th>SquareFeet</th>\n",
       "      <th>Bedrooms</th>\n",
       "      <th>Bathrooms</th>\n",
       "      <th>Neighborhood</th>\n",
       "      <th>YearBuilt</th>\n",
       "      <th>Price</th>\n",
       "    </tr>\n",
       "  </thead>\n",
       "  <tbody>\n",
       "    <tr>\n",
       "      <th>0</th>\n",
       "      <td>2126</td>\n",
       "      <td>4</td>\n",
       "      <td>1</td>\n",
       "      <td>0</td>\n",
       "      <td>1969</td>\n",
       "      <td>215355.283618</td>\n",
       "    </tr>\n",
       "    <tr>\n",
       "      <th>1</th>\n",
       "      <td>2459</td>\n",
       "      <td>3</td>\n",
       "      <td>2</td>\n",
       "      <td>0</td>\n",
       "      <td>1980</td>\n",
       "      <td>195014.221626</td>\n",
       "    </tr>\n",
       "    <tr>\n",
       "      <th>2</th>\n",
       "      <td>1860</td>\n",
       "      <td>2</td>\n",
       "      <td>1</td>\n",
       "      <td>1</td>\n",
       "      <td>1970</td>\n",
       "      <td>306891.012076</td>\n",
       "    </tr>\n",
       "    <tr>\n",
       "      <th>3</th>\n",
       "      <td>2294</td>\n",
       "      <td>2</td>\n",
       "      <td>1</td>\n",
       "      <td>2</td>\n",
       "      <td>1996</td>\n",
       "      <td>206786.787153</td>\n",
       "    </tr>\n",
       "    <tr>\n",
       "      <th>4</th>\n",
       "      <td>2130</td>\n",
       "      <td>5</td>\n",
       "      <td>2</td>\n",
       "      <td>1</td>\n",
       "      <td>2001</td>\n",
       "      <td>272436.239065</td>\n",
       "    </tr>\n",
       "  </tbody>\n",
       "</table>\n",
       "</div>"
      ],
      "text/plain": [
       "   SquareFeet  Bedrooms  Bathrooms  Neighborhood  YearBuilt          Price\n",
       "0        2126         4          1             0       1969  215355.283618\n",
       "1        2459         3          2             0       1980  195014.221626\n",
       "2        1860         2          1             1       1970  306891.012076\n",
       "3        2294         2          1             2       1996  206786.787153\n",
       "4        2130         5          2             1       2001  272436.239065"
      ]
     },
     "execution_count": 15,
     "metadata": {},
     "output_type": "execute_result"
    }
   ],
   "source": [
    "df.head()"
   ]
  },
  {
   "cell_type": "code",
   "execution_count": 16,
   "id": "5e1428b8",
   "metadata": {
    "execution": {
     "iopub.execute_input": "2024-07-15T18:23:40.737670Z",
     "iopub.status.busy": "2024-07-15T18:23:40.736623Z",
     "iopub.status.idle": "2024-07-15T18:23:41.249980Z",
     "shell.execute_reply": "2024-07-15T18:23:41.248764Z"
    },
    "papermill": {
     "duration": 0.530162,
     "end_time": "2024-07-15T18:23:41.252606",
     "exception": false,
     "start_time": "2024-07-15T18:23:40.722444",
     "status": "completed"
    },
    "tags": []
   },
   "outputs": [
    {
     "data": {
      "text/plain": [
       "<Axes: >"
      ]
     },
     "execution_count": 16,
     "metadata": {},
     "output_type": "execute_result"
    },
    {
     "data": {
      "image/png": "[encoded data removed]",
      "text/plain": [
       "<Figure size 640x480 with 2 Axes>"
      ]
     },
     "metadata": {},
     "output_type": "display_data"
    }
   ],
   "source": [
    "sns.heatmap(df.corr(),annot = True)"
   ]
  },
  {
   "cell_type": "code",
   "execution_count": 17,
   "id": "9d95b8e0",
   "metadata": {
    "execution": {
     "iopub.execute_input": "2024-07-15T18:23:41.281106Z",
     "iopub.status.busy": "2024-07-15T18:23:41.280659Z",
     "iopub.status.idle": "2024-07-15T18:23:41.677226Z",
     "shell.execute_reply": "2024-07-15T18:23:41.675682Z"
    },
    "papermill": {
     "duration": 0.414544,
     "end_time": "2024-07-15T18:23:41.680657",
     "exception": false,
     "start_time": "2024-07-15T18:23:41.266113",
     "status": "completed"
    },
    "tags": []
   },
   "outputs": [
    {
     "data": {
      "image/png": "[encoded data removed]",
      "text/plain": [
       "<Figure size 1000x600 with 1 Axes>"
      ]
     },
     "metadata": {},
     "output_type": "display_data"
    }
   ],
   "source": [
    "average_prices = df.groupby('Neighborhood')['Price'].mean().sort_values(ascending=False)\n",
    "\n",
    "# Plotting\n",
    "plt.figure(figsize=(10, 6))\n",
    "average_prices.plot(kind='bar', color='skyblue')\n",
    "plt.title('Average Prices by Type')\n",
    "plt.xlabel('Neighborhood')\n",
    "plt.ylabel('Average Price')\n",
    "plt.xticks(rotation=0)\n",
    "plt.tight_layout()\n",
    "plt.show()"
   ]
  },
  {
   "cell_type": "code",
   "execution_count": 18,
   "id": "a4938093",
   "metadata": {
    "execution": {
     "iopub.execute_input": "2024-07-15T18:23:41.714550Z",
     "iopub.status.busy": "2024-07-15T18:23:41.714123Z",
     "iopub.status.idle": "2024-07-15T18:23:41.721511Z",
     "shell.execute_reply": "2024-07-15T18:23:41.720189Z"
    },
    "papermill": {
     "duration": 0.025498,
     "end_time": "2024-07-15T18:23:41.724249",
     "exception": false,
     "start_time": "2024-07-15T18:23:41.698751",
     "status": "completed"
    },
    "tags": []
   },
   "outputs": [],
   "source": [
    "df.drop(\"Neighborhood\",axis = True,inplace = True)"
   ]
  },
  {
   "cell_type": "code",
   "execution_count": 19,
   "id": "33456dfe",
   "metadata": {
    "execution": {
     "iopub.execute_input": "2024-07-15T18:23:41.754346Z",
     "iopub.status.busy": "2024-07-15T18:23:41.753929Z",
     "iopub.status.idle": "2024-07-15T18:23:42.716463Z",
     "shell.execute_reply": "2024-07-15T18:23:42.715098Z"
    },
    "papermill": {
     "duration": 0.980441,
     "end_time": "2024-07-15T18:23:42.719222",
     "exception": false,
     "start_time": "2024-07-15T18:23:41.738781",
     "status": "completed"
    },
    "tags": []
   },
   "outputs": [
    {
     "data": {
      "image/png": "[encoded data removed]",
      "text/plain": [
       "<Figure size 1000x600 with 1 Axes>"
      ]
     },
     "metadata": {},
     "output_type": "display_data"
    }
   ],
   "source": [
    "average_prices = df.groupby('YearBuilt')['Price'].mean().sort_values(ascending=False)\n",
    "\n",
    "# Plotting\n",
    "plt.figure(figsize=(10, 6))\n",
    "average_prices.plot(kind='bar', color='skyblue')\n",
    "plt.title('Average Prices by Type')\n",
    "plt.xlabel('Neighborhood')\n",
    "plt.ylabel('Average Price')\n",
    "plt.xticks(rotation=0)\n",
    "plt.tight_layout()\n",
    "plt.show()"
   ]
  },
  {
   "cell_type": "code",
   "execution_count": 20,
   "id": "62a195b4",
   "metadata": {
    "execution": {
     "iopub.execute_input": "2024-07-15T18:23:42.750797Z",
     "iopub.status.busy": "2024-07-15T18:23:42.750329Z",
     "iopub.status.idle": "2024-07-15T18:23:42.757896Z",
     "shell.execute_reply": "2024-07-15T18:23:42.756661Z"
    },
    "papermill": {
     "duration": 0.02614,
     "end_time": "2024-07-15T18:23:42.760689",
     "exception": false,
     "start_time": "2024-07-15T18:23:42.734549",
     "status": "completed"
    },
    "tags": []
   },
   "outputs": [],
   "source": [
    "df.drop(\"YearBuilt\",axis = True,inplace = True)"
   ]
  },
  {
   "cell_type": "code",
   "execution_count": 21,
   "id": "8a917395",
   "metadata": {
    "execution": {
     "iopub.execute_input": "2024-07-15T18:23:42.791222Z",
     "iopub.status.busy": "2024-07-15T18:23:42.790790Z",
     "iopub.status.idle": "2024-07-15T18:23:42.804770Z",
     "shell.execute_reply": "2024-07-15T18:23:42.803402Z"
    },
    "papermill": {
     "duration": 0.032366,
     "end_time": "2024-07-15T18:23:42.807377",
     "exception": false,
     "start_time": "2024-07-15T18:23:42.775011",
     "status": "completed"
    },
    "tags": []
   },
   "outputs": [
    {
     "data": {
      "text/html": [
       "<div>\n",
       "<style scoped>\n",
       "    .dataframe tbody tr th:only-of-type {\n",
       "        vertical-align: middle;\n",
       "    }\n",
       "\n",
       "    .dataframe tbody tr th {\n",
       "        vertical-align: top;\n",
       "    }\n",
       "\n",
       "    .dataframe thead th {\n",
       "        text-align: right;\n",
       "    }\n",
       "</style>\n",
       "<table border=\"1\" class=\"dataframe\">\n",
       "  <thead>\n",
       "    <tr style=\"text-align: right;\">\n",
       "      <th></th>\n",
       "      <th>SquareFeet</th>\n",
       "      <th>Bedrooms</th>\n",
       "      <th>Bathrooms</th>\n",
       "      <th>Price</th>\n",
       "    </tr>\n",
       "  </thead>\n",
       "  <tbody>\n",
       "    <tr>\n",
       "      <th>0</th>\n",
       "      <td>2126</td>\n",
       "      <td>4</td>\n",
       "      <td>1</td>\n",
       "      <td>215355.283618</td>\n",
       "    </tr>\n",
       "    <tr>\n",
       "      <th>1</th>\n",
       "      <td>2459</td>\n",
       "      <td>3</td>\n",
       "      <td>2</td>\n",
       "      <td>195014.221626</td>\n",
       "    </tr>\n",
       "    <tr>\n",
       "      <th>2</th>\n",
       "      <td>1860</td>\n",
       "      <td>2</td>\n",
       "      <td>1</td>\n",
       "      <td>306891.012076</td>\n",
       "    </tr>\n",
       "    <tr>\n",
       "      <th>3</th>\n",
       "      <td>2294</td>\n",
       "      <td>2</td>\n",
       "      <td>1</td>\n",
       "      <td>206786.787153</td>\n",
       "    </tr>\n",
       "    <tr>\n",
       "      <th>4</th>\n",
       "      <td>2130</td>\n",
       "      <td>5</td>\n",
       "      <td>2</td>\n",
       "      <td>272436.239065</td>\n",
       "    </tr>\n",
       "  </tbody>\n",
       "</table>\n",
       "</div>"
      ],
      "text/plain": [
       "   SquareFeet  Bedrooms  Bathrooms          Price\n",
       "0        2126         4          1  215355.283618\n",
       "1        2459         3          2  195014.221626\n",
       "2        1860         2          1  306891.012076\n",
       "3        2294         2          1  206786.787153\n",
       "4        2130         5          2  272436.239065"
      ]
     },
     "execution_count": 21,
     "metadata": {},
     "output_type": "execute_result"
    }
   ],
   "source": [
    "df.head()"
   ]
  },
  {
   "cell_type": "code",
   "execution_count": 22,
   "id": "5835069d",
   "metadata": {
    "execution": {
     "iopub.execute_input": "2024-07-15T18:23:42.838095Z",
     "iopub.status.busy": "2024-07-15T18:23:42.837653Z",
     "iopub.status.idle": "2024-07-15T18:23:42.844652Z",
     "shell.execute_reply": "2024-07-15T18:23:42.843262Z"
    },
    "papermill": {
     "duration": 0.02559,
     "end_time": "2024-07-15T18:23:42.847419",
     "exception": false,
     "start_time": "2024-07-15T18:23:42.821829",
     "status": "completed"
    },
    "tags": []
   },
   "outputs": [],
   "source": [
    "X = df.drop(\"Price\",axis = 1)\n",
    "y = df[\"Price\"]"
   ]
  },
  {
   "cell_type": "code",
   "execution_count": 23,
   "id": "3e6a7b15",
   "metadata": {
    "execution": {
     "iopub.execute_input": "2024-07-15T18:23:42.878770Z",
     "iopub.status.busy": "2024-07-15T18:23:42.878258Z",
     "iopub.status.idle": "2024-07-15T18:23:43.130063Z",
     "shell.execute_reply": "2024-07-15T18:23:43.128737Z"
    },
    "papermill": {
     "duration": 0.270982,
     "end_time": "2024-07-15T18:23:43.133349",
     "exception": false,
     "start_time": "2024-07-15T18:23:42.862367",
     "status": "completed"
    },
    "tags": []
   },
   "outputs": [],
   "source": [
    "from sklearn.linear_model import LinearRegression\n",
    "from sklearn.model_selection import train_test_split\n",
    "\n",
    "X_train,X_test,y_train,y_test = train_test_split(X,y,test_size = 0.2,random_state = 42)"
   ]
  },
  {
   "cell_type": "code",
   "execution_count": 24,
   "id": "54fed9f6",
   "metadata": {
    "execution": {
     "iopub.execute_input": "2024-07-15T18:23:43.164897Z",
     "iopub.status.busy": "2024-07-15T18:23:43.164455Z",
     "iopub.status.idle": "2024-07-15T18:23:43.215529Z",
     "shell.execute_reply": "2024-07-15T18:23:43.213808Z"
    },
    "papermill": {
     "duration": 0.071522,
     "end_time": "2024-07-15T18:23:43.219658",
     "exception": false,
     "start_time": "2024-07-15T18:23:43.148136",
     "status": "completed"
    },
    "tags": []
   },
   "outputs": [
    {
     "name": "stdout",
     "output_type": "stream",
     "text": [
      "The Test acc: 57.76950708108431\n"
     ]
    }
   ],
   "source": [
    "model = LinearRegression()\n",
    "model.fit(X_train,y_train)\n",
    "\n",
    "print(f\"The Test acc: {model.score(X_test,y_test)*100}\")"
   ]
  },
  {
   "cell_type": "code",
   "execution_count": 25,
   "id": "e9cd501e",
   "metadata": {
    "execution": {
     "iopub.execute_input": "2024-07-15T18:23:43.283992Z",
     "iopub.status.busy": "2024-07-15T18:23:43.283220Z",
     "iopub.status.idle": "2024-07-15T18:23:43.779637Z",
     "shell.execute_reply": "2024-07-15T18:23:43.778551Z"
    },
    "papermill": {
     "duration": 0.532436,
     "end_time": "2024-07-15T18:23:43.782613",
     "exception": false,
     "start_time": "2024-07-15T18:23:43.250177",
     "status": "completed"
    },
    "tags": []
   },
   "outputs": [
    {
     "name": "stdout",
     "output_type": "stream",
     "text": [
      "RMSE: 49961.200113529885\n"
     ]
    }
   ],
   "source": [
    "from xgboost import XGBRegressor\n",
    "from sklearn.metrics import mean_squared_error,make_scorer\n",
    "model2 = XGBRegressor()\n",
    "\n",
    "model2.fit(X_train,y_train)\n",
    "\n",
    "y_pred = model2.predict(X_test)\n",
    "\n",
    "print(f\"RMSE: {mean_squared_error(y_pred,y_test,squared = False)}\")"
   ]
  },
  {
   "cell_type": "code",
   "execution_count": 26,
   "id": "97f7f926",
   "metadata": {
    "execution": {
     "iopub.execute_input": "2024-07-15T18:23:43.815682Z",
     "iopub.status.busy": "2024-07-15T18:23:43.815267Z",
     "iopub.status.idle": "2024-07-15T18:23:47.082436Z",
     "shell.execute_reply": "2024-07-15T18:23:47.080969Z"
    },
    "papermill": {
     "duration": 3.287011,
     "end_time": "2024-07-15T18:23:47.085674",
     "exception": false,
     "start_time": "2024-07-15T18:23:43.798663",
     "status": "completed"
    },
    "tags": []
   },
   "outputs": [
    {
     "name": "stdout",
     "output_type": "stream",
     "text": [
      "RMSE: 49490.260063580055\n"
     ]
    }
   ],
   "source": [
    "from sklearn.ensemble import RandomForestRegressor\n",
    "model3 = RandomForestRegressor(n_estimators=150, max_depth=5, random_state=42)\n",
    "model3.fit(X_train,y_train)\n",
    "y_pred = model3.predict(X_test)\n",
    "\n",
    "print(f\"RMSE: {mean_squared_error(y_pred,y_test,squared = False)}\")"
   ]
  },
  {
   "cell_type": "code",
   "execution_count": null,
   "id": "1f05a6c3",
   "metadata": {
    "papermill": {
     "duration": 0.014536,
     "end_time": "2024-07-15T18:23:47.114996",
     "exception": false,
     "start_time": "2024-07-15T18:23:47.100460",
     "status": "completed"
    },
    "tags": []
   },
   "outputs": [],
   "source": []
  }
 ],
 "metadata": {
  "kaggle": {
   "accelerator": "none",
   "dataSources": [
    {
     "datasetId": 4037188,
     "sourceId": 7020742,
     "sourceType": "datasetVersion"
    }
   ],
   "dockerImageVersionId": 30746,
   "isGpuEnabled": false,
   "isInternetEnabled": true,
   "language": "python",
   "sourceType": "notebook"
  },
  "kernelspec": {
   "display_name": "Python 3",
   "language": "python",
   "name": "python3"
  },
  "language_info": {
   "codemirror_mode": {
    "name": "ipython",
    "version": 3
   },
   "file_extension": ".py",
   "mimetype": "text/x-python",
   "name": "python",
   "nbconvert_exporter": "python",
   "pygments_lexer": "ipython3",
   "version": "3.10.13"
  },
  "papermill": {
   "default_parameters": {},
   "duration": 15.554497,
   "end_time": "2024-07-15T18:23:47.853946",
   "environment_variables": {},
   "exception": null,
   "input_path": "__notebook__.ipynb",
   "output_path": "__notebook__.ipynb",
   "parameters": {},
   "start_time": "2024-07-15T18:23:32.299449",
   "version": "2.5.0"
  }
 },
 "nbformat": 4,
 "nbformat_minor": 5
}
